{
 "cells": [
  {
   "cell_type": "code",
   "execution_count": null,
   "metadata": {},
   "outputs": [],
   "source": [
    "import requests\n",
    "import pandas as pd\n",
    "import os\n",
    "import datetime\n",
    "import matplotlib.pyplot as plt\n",
    "import seaborn as sns\n",
    "notebook_path = os.path.abspath(\".\")"
   ]
  },
  {
   "cell_type": "code",
   "execution_count": null,
   "metadata": {},
   "outputs": [],
   "source": [
    "covidDataJSON = requests.request(\"GET\", \"https://covidtracking.com/api/states/daily\")"
   ]
  },
  {
   "cell_type": "code",
   "execution_count": null,
   "metadata": {},
   "outputs": [],
   "source": [
    "df_covid = pd.read_json(covidDataJSON.text)\n",
    "df_new_york = df_covid.loc[df_covid['state'] == \"NY\"].astype({\"date\":\"str\"})\n",
    "df_new_york[\"date\"] = pd.to_datetime(df_new_york[\"date\"], format= \"%Y%m%d\")\n",
    "df_new_york[\"s_date\"] = df_new_york[\"date\"].dt.strftime(\"%m-%d\")\n",
    "df_new_york = df_new_york.set_index(\"date\").sort_index()"
   ]
  },
  {
   "cell_type": "code",
   "execution_count": null,
   "metadata": {},
   "outputs": [],
   "source": [
    "ax = plt.gca()\n",
    "df_new_york.plot(kind=\"line\",y=\"positive\", x=\"s_date\", color=\"red\", ax=ax)\n",
    "ax.set_xlabel(\"Date\")\n",
    "ax.set_ylabel(\"Positive Tests\")\n",
    "ax.get_legend().remove()\n",
    "plt.yscale(\"log\")\n",
    "plt_ny_positives = plt.gcf()\n",
    "plt_ny_positives.set_size_inches(20, 10)\n",
    "plt_ny_positives.savefig(\"log-history.png\")"
   ]
  },
  {
   "cell_type": "code",
   "execution_count": null,
   "metadata": {},
   "outputs": [],
   "source": [
    "df_pos_pct_change = df_new_york[\"positive\"].pct_change().to_frame()\n",
    "df_pos_pct_change[\"s_date\"] = df_pos_pct_change.index.strftime('%m-%d')"
   ]
  },
  {
   "cell_type": "code",
   "execution_count": null,
   "metadata": {},
   "outputs": [],
   "source": [
    "ax = plt.gca()\n",
    "ax.set_xlabel(\"Date\")\n",
    "ax.set_ylabel(\"% Increase in Positives\")\n",
    "df_pos_pct_change[\"percent\"] = df_pos_pct_change[\"positive\"] * 100\n",
    "df_pos_pct_change.plot(kind=\"line\",y=\"percent\", x=\"s_date\", color=\"red\", ax=ax)\n",
    "plt_ny_pct_change = plt.gcf()\n",
    "plt_ny_pct_change.set_size_inches(20, 10)"
   ]
  },
  {
   "cell_type": "code",
   "execution_count": null,
   "metadata": {},
   "outputs": [],
   "source": [
    "df_pos_pct_change[\"seconds\"] = 0\n",
    "df_pos_pct_change.dtypes\n",
    "df_pos_pct_change[\"seconds\"] = (df_pos_pct_change.index - datetime.datetime(1970,1,1)).total_seconds()\n",
    "df_pos_pct_change"
   ]
  },
  {
   "cell_type": "code",
   "execution_count": null,
   "metadata": {},
   "outputs": [],
   "source": [
    "ax = plt.gca()\n",
    "ax.set_xlabel(\"Date\")\n",
    "ax.set_ylabel(\"% Increase in Positives\")\n",
    "sns.regplot(x='seconds',y='percent',data=df_pos_pct_change, fit_reg=True)\n",
    "plt.xticks(ticks=df_pos_pct_change[\"seconds\"], labels=df_pos_pct_change[\"s_date\"])\n",
    "ax.set_xlabel(\"Date\")\n",
    "ax.set_ylabel(\"% Change in Positives\")\n",
    "plt_ny_pct_change_best_fit = plt.gcf()\n",
    "plt_ny_pct_change_best_fit.set_size_inches(20, 10)\n",
    "plt_ny_pct_change_best_fit.savefig(\"percent-change-best-fit.png\")"
   ]
  }
 ],
 "metadata": {
  "kernelspec": {
   "display_name": "Python 3",
   "language": "python",
   "name": "python3"
  },
  "language_info": {
   "codemirror_mode": {
    "name": "ipython",
    "version": 3
   },
   "file_extension": ".py",
   "mimetype": "text/x-python",
   "name": "python",
   "nbconvert_exporter": "python",
   "pygments_lexer": "ipython3",
   "version": "3.7.4"
  }
 },
 "nbformat": 4,
 "nbformat_minor": 4
}
