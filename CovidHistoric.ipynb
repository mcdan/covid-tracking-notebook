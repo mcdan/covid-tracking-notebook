{
 "cells": [
  {
   "cell_type": "code",
   "execution_count": null,
   "metadata": {},
   "outputs": [],
   "source": [
    "import requests\n",
    "import pandas as pd\n",
    "import os\n",
    "import matplotlib.pyplot as plt\n",
    "import seaborn as sns\n",
    "notebook_path = os.path.abspath(\".\")"
   ]
  },
  {
   "cell_type": "code",
   "execution_count": null,
   "metadata": {},
   "outputs": [],
   "source": [
    "covidDataJSON = requests.request(\"GET\", \"https://covidtracking.com/api/states/daily\")"
   ]
  },
  {
   "cell_type": "code",
   "execution_count": null,
   "metadata": {},
   "outputs": [],
   "source": [
    "df_covid = pd.read_json(covidDataJSON.text)\n",
    "df_new_york = df_covid.loc[df_covid['state'] == \"NY\"].sort_values(\"date\").set_index(\"date\")\n",
    "df_new_york[\"s_date\"] = df_new_york.index.astype('str')\n",
    "df_new_york[\"s_date\"] = df_new_york.s_date.str[0:4] + \"-\" + df_new_york.s_date.str[4:6] + \"-\" + df_new_york.s_date.str[6:8]"
   ]
  },
  {
   "cell_type": "code",
   "execution_count": null,
   "metadata": {},
   "outputs": [],
   "source": [
    "ax = plt.gca()\n",
    "df_new_york.plot(kind=\"line\",y=\"positive\", x=\"s_date\", color=\"red\", ax=ax)\n",
    "ax.set_xlabel(\"Date\")\n",
    "ax.set_ylabel(\"Positive Tests\")\n",
    "ax.get_legend().remove()\n",
    "plt.yscale(\"log\")\n",
    "plt_ny_positives = plt.gcf()\n",
    "plt_ny_positives.set_size_inches(20, 10)\n",
    "plt_ny_positives.savefig(\"log-history.png\")"
   ]
  },
  {
   "cell_type": "code",
   "execution_count": null,
   "metadata": {},
   "outputs": [],
   "source": [
    "df_pos_pct_change = df_new_york[\"positive\"].pct_change().to_frame().reset_index().set_index(\"date\")"
   ]
  },
  {
   "cell_type": "code",
   "execution_count": null,
   "metadata": {},
   "outputs": [],
   "source": [
    "ax = plt.gca()\n",
    "df_pos_pct_change[\"s_date\"] = df_new_york[\"s_date\"]\n",
    "df_pos_pct_change[\"percent\"] = df_pos_pct_change[\"positive\"] * 100\n",
    "df_pos_pct_change.plot(kind=\"line\",y=\"percent\", x=\"s_date\", color=\"red\", ax=ax)\n",
    "ax.set_xlabel(\"Date\")\n",
    "ax.set_ylabel(\"% Increase in Positives\")\n",
    "plt_ny_pct_change = plt.gcf()\n",
    "plt_ny_pct_change.set_size_inches(20, 10)"
   ]
  },
  {
   "cell_type": "code",
   "execution_count": null,
   "metadata": {},
   "outputs": [],
   "source": [
    "df_pos_pct_change[\"date\"] = df_pos_pct_change.index"
   ]
  },
  {
   "cell_type": "code",
   "execution_count": null,
   "metadata": {},
   "outputs": [],
   "source": [
    "sns.regplot(x='date',y='percent',data=df_pos_pct_change, fit_reg=True)\n",
    "plt_ny_pct_change_best_fit = plt.gcf()\n",
    "plt_ny_pct_change_best_fit.set_size_inches(20, 10)"
   ]
  },
  {
   "cell_type": "code",
   "execution_count": null,
   "metadata": {},
   "outputs": [],
   "source": [
    "df_pos_pct_change"
   ]
  }
 ],
 "metadata": {
  "kernelspec": {
   "display_name": "Python 3",
   "language": "python",
   "name": "python3"
  },
  "language_info": {
   "codemirror_mode": {
    "name": "ipython",
    "version": 3
   },
   "file_extension": ".py",
   "mimetype": "text/x-python",
   "name": "python",
   "nbconvert_exporter": "python",
   "pygments_lexer": "ipython3",
   "version": "3.7.4"
  }
 },
 "nbformat": 4,
 "nbformat_minor": 4
}
